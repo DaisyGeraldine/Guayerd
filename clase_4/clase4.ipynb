{
 "cells": [
  {
   "cell_type": "markdown",
   "id": "61d6c620",
   "metadata": {},
   "source": [
    "# Estructura de control\n"
   ]
  },
  {
   "cell_type": "code",
   "execution_count": null,
   "id": "d1cefe88",
   "metadata": {},
   "outputs": [
    {
     "name": "stdout",
     "output_type": "stream",
     "text": [
      "Aprobado\n"
     ]
    }
   ],
   "source": [
    "# Estructura de control en python\n",
    "nota1 = 15\n",
    "nota2 = 14\n",
    "promedio = 0\n",
    "\n",
    "promedio = (nota1 + nota2) / 2\n",
    "if promedio >= 14:\n",
    "    print(\"Aprobado\")\n",
    "else:\n",
    "    print(\"Desaprobado\")\n",
    "\n"
   ]
  }
 ],
 "metadata": {
  "kernelspec": {
   "display_name": "Python 3",
   "language": "python",
   "name": "python3"
  },
  "language_info": {
   "codemirror_mode": {
    "name": "ipython",
    "version": 3
   },
   "file_extension": ".py",
   "mimetype": "text/x-python",
   "name": "python",
   "nbconvert_exporter": "python",
   "pygments_lexer": "ipython3",
   "version": "3.12.7"
  }
 },
 "nbformat": 4,
 "nbformat_minor": 5
}
