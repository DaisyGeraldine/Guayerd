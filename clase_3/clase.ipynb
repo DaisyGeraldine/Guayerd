{
 "cells": [
  {
   "cell_type": "markdown",
   "id": "d264e2b7",
   "metadata": {},
   "source": [
    "Mi primer codigo\n",
    "Opcion 1\n",
    "Opcion 2"
   ]
  },
  {
   "cell_type": "code",
   "execution_count": 2,
   "id": "a4dac325",
   "metadata": {},
   "outputs": [],
   "source": [
    "a=2"
   ]
  }
 ],
 "metadata": {
  "kernelspec": {
   "display_name": "Python 3",
   "language": "python",
   "name": "python3"
  },
  "language_info": {
   "codemirror_mode": {
    "name": "ipython",
    "version": 3
   },
   "file_extension": ".py",
   "mimetype": "text/x-python",
   "name": "python",
   "nbconvert_exporter": "python",
   "pygments_lexer": "ipython3",
   "version": "3.12.7"
  }
 },
 "nbformat": 4,
 "nbformat_minor": 5
}
