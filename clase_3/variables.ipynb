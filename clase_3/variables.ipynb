{
 "cells": [
  {
   "cell_type": "markdown",
   "id": "c58978d0",
   "metadata": {},
   "source": [
    "Primer variables"
   ]
  },
  {
   "cell_type": "code",
   "execution_count": 7,
   "id": "0d81d004",
   "metadata": {},
   "outputs": [
    {
     "name": "stdout",
     "output_type": "stream",
     "text": [
      "13\n",
      "7\n",
      "30\n",
      "3.3333333333333335\n",
      "3\n",
      "1\n",
      "1000\n"
     ]
    }
   ],
   "source": [
    "a = 10\n",
    "b = 3\n",
    "print(a + b) # 13 Suma\n",
    "print(a - b) # 7 Resta\n",
    "print(a * b) # 30 Multiplicacion    \n",
    "print(a / b) # 3.33333 Division\n",
    "print(a // b) # 3 Division entera\n",
    "print(a % b) # 1 Modulo\n",
    "print(a ** b) # 1000 Potencia"
   ]
  },
  {
   "cell_type": "code",
   "execution_count": 2,
   "id": "6561f3f6",
   "metadata": {},
   "outputs": [
    {
     "name": "stdout",
     "output_type": "stream",
     "text": [
      "Hola Camada 23\n",
      "145476\n",
      "El valor de la variable es: 145476\n"
     ]
    }
   ],
   "source": [
    "# Salida de datos por consola\n",
    "print(\"Hola Camada 23\")\n",
    "variable = 12123 * 12\n",
    "print(variable)\n",
    "print(\"El valor de la variable es:\", variable)"
   ]
  },
  {
   "cell_type": "code",
   "execution_count": 5,
   "id": "351c6a6a",
   "metadata": {},
   "outputs": [
    {
     "name": "stdout",
     "output_type": "stream",
     "text": [
      "15.0\n"
     ]
    }
   ],
   "source": [
    "a = 10\n",
    "b = \"5\"\n",
    "c = a + int(b)\n",
    "print(str(float(c)))"
   ]
  },
  {
   "cell_type": "code",
   "execution_count": 6,
   "id": "4758270c",
   "metadata": {},
   "outputs": [
    {
     "name": "stdout",
     "output_type": "stream",
     "text": [
      "2\n",
      "<class 'str'>\n"
     ]
    }
   ],
   "source": [
    "a = 2\n",
    "a_str = str(a)\n",
    "print(a_str)\n",
    "print(type(a_str))"
   ]
  },
  {
   "cell_type": "code",
   "execution_count": 8,
   "id": "3ee6f66f",
   "metadata": {},
   "outputs": [
    {
     "name": "stdout",
     "output_type": "stream",
     "text": [
      "False\n",
      "True\n",
      "False\n",
      "True\n",
      "False\n",
      "True\n",
      "False\n",
      "True\n"
     ]
    }
   ],
   "source": [
    "# comparaciones\n",
    "x = 5\n",
    "y = 10\n",
    "print(x == y) # Igualdad\n",
    "print(x != y) # Desigualdad\n",
    "print(x > y)  # Mayor que\n",
    "print(x < y)  # Menor que\n",
    "print(x >= y) # Mayor o igual que\n",
    "print(x <= y) # Menor o igual que\n",
    "print(x is y) # Identidad\n",
    "print(x is not y) # No identidad"
   ]
  },
  {
   "cell_type": "code",
   "execution_count": 9,
   "id": "dd892ba9",
   "metadata": {},
   "outputs": [
    {
     "name": "stdout",
     "output_type": "stream",
     "text": [
      "True\n",
      "True\n",
      "True\n",
      "False\n",
      "Negacion de True: False\n",
      "Negacion de False: True\n"
     ]
    }
   ],
   "source": [
    "# Logico\n",
    "edad = 20\n",
    "tiene_licencia = True\n",
    "no_tiene_licencia = False\n",
    "\n",
    "print(edad >= 18 and tiene_licencia) # Ambas condiciones son verdaderas\n",
    "print(edad >= 18 or no_tiene_licencia) # Al menos una condicion es verdadera\n",
    "print(not no_tiene_licencia) # Invierte el valor booleano\n",
    "print(not tiene_licencia) # Invierte el valor booleano\n",
    "print(\"Negacion de True:\", not True)\n",
    "print(\"Negacion de False:\", not False)\n"
   ]
  },
  {
   "cell_type": "code",
   "execution_count": 10,
   "id": "792e27d5",
   "metadata": {},
   "outputs": [
    {
     "name": "stdout",
     "output_type": "stream",
     "text": [
      "15\n",
      "12\n",
      "24\n",
      "6.0\n",
      "3.0\n",
      "1.0\n",
      "1.0\n"
     ]
    }
   ],
   "source": [
    "# Operadores de asignacion compuesta\n",
    "x = 10\n",
    "x += 5  # Equivalente a x = x + 5\n",
    "print(x)  # Salida: 15\n",
    "x -= 3  # Equivalente a x = x - 3\n",
    "print(x)  # Salida: 12\n",
    "x *= 2  # Equivalente a x = x * 2\n",
    "print(x)  # Salida: 24\n",
    "x /= 4  # Equivalente a x = x / 4\n",
    "print(x)  # Salida: 6.0\n",
    "x //= 2  # Equivalente a x = x // 2\n",
    "print(x)  # Salida: 3.0\n",
    "x %= 2  # Equivalente a x = x % 2\n",
    "print(x)  # Salida: 1.0\n",
    "x **= 3  # Equivalente a x = x ** 3\n",
    "print(x)  # Salida: 1.0\n"
   ]
  },
  {
   "cell_type": "code",
   "execution_count": 13,
   "id": "b976307a",
   "metadata": {},
   "outputs": [
    {
     "name": "stdout",
     "output_type": "stream",
     "text": [
      "True\n",
      "True\n",
      "False\n",
      "False\n"
     ]
    }
   ],
   "source": [
    "# pertenencia\n",
    "frutas = [\"manzana\", \"banana\", \"cereza\"]\n",
    "print(\"banana\" in frutas)  # True\n",
    "print(\"carro\" not in frutas)  # True\n",
    "print(\"naranja\" in frutas)  # False\n",
    "print(\"cereza\" not in frutas)  # False"
   ]
  },
  {
   "cell_type": "code",
   "execution_count": null,
   "id": "192cda2a",
   "metadata": {},
   "outputs": [],
   "source": [
    "Texto y formato"
   ]
  },
  {
   "cell_type": "code",
   "execution_count": 15,
   "id": "d25991cc",
   "metadata": {},
   "outputs": [
    {
     "name": "stdout",
     "output_type": "stream",
     "text": [
      "Py\n",
      "es genial\n",
      "Python\n",
      "Pto sgna\n",
      "laineg se nohtyP\n"
     ]
    }
   ],
   "source": [
    "texto = \"Python es genial\"\n",
    "print(texto[0:2])  # \"Py\"\n",
    "print(texto[7:])  # \"es genial\"\n",
    "print(texto[:6])  # \"Python\"\n",
    "print(texto[::2])  # \"Pto sgenl\"\n",
    "print(texto[::-1])  # \"laneig se nohtyP\""
   ]
  },
  {
   "cell_type": "code",
   "execution_count": 16,
   "id": "bc33ec6c",
   "metadata": {},
   "outputs": [
    {
     "name": "stdout",
     "output_type": "stream",
     "text": [
      "_hola mundo \n",
      "_HOLA MUNDO \n",
      "_Hola Mundo\n",
      "_Hola Camada 23 \n",
      "['_Hola', 'Mundo', '']\n",
      "_Hola Mundo !!!\n",
      "_Hola Mundo _Hola Mundo _Hola Mundo \n",
      "Longitud de la cadena: 12\n",
      "Indice de 'Mundo': 6\n",
      "Cuenta de 'o': 2\n",
      "Empieza con '_': True\n",
      "Termina con ' ': True\n",
      "Formato con f-string: _Hola Mundo  - Bienvenidos a Python\n",
      "Formato con format(): _Hola Mundo \n",
      "Formato con Cadena: _Hola Mundo \n",
      "Cadena original: _Hola Mundo \n"
     ]
    }
   ],
   "source": [
    "cadena = \"_Hola Mundo \"\n",
    "\n",
    "print(cadena.lower())  # \"hola mundo \"\n",
    "print(cadena.upper())  # \"HOLA MUNDO \"\n",
    "print(cadena.strip())  # \"Hola Mundo\"\n",
    "print(cadena.replace(\"Mundo\", \"Camada 23\"))  # \"_Hola Camada 23 \"\n",
    "print(cadena.split(\" \"))  # ['_Hola', 'Mundo', '']\n",
    "print(cadena + \"!!!\")  # \"_Hola Mundo !!!\"\n",
    "print(cadena * 3)  # \"_Hola Mundo _Hola Mundo _Hola Mundo \"\n",
    "print(\"Longitud de la cadena:\", len(cadena))  # Longitud de la cadena: 13\n",
    "print(\"Indice de 'Mundo':\", cadena.index(\"Mundo\"))\n",
    "print(\"Cuenta de 'o':\", cadena.count(\"o\"))\n",
    "print(\"Empieza con '_':\", cadena.startswith(\"_\"))  # True\n",
    "print(\"Termina con ' ':\", cadena.endswith(\" \"))  # True\n",
    "print(\"Formato con f-string:\", f\"{cadena} - Bienvenidos a Python\")  # Formato con f-string: _Hola Mundo  - Bienvenidos a Python\n",
    "print(\"Formato con format(): {}\".format(cadena))  # Formato con format(): _Hola Mundo\n",
    "print(\"Formato con %s: %s\" % (\"Cadena\", cadena))  # Formato con %s: _Hola Mundo\n",
    "print(\"Cadena original:\", cadena)\n"
   ]
  },
  {
   "cell_type": "code",
   "execution_count": 17,
   "id": "8a0ba1f3",
   "metadata": {},
   "outputs": [
    {
     "name": "stdout",
     "output_type": "stream",
     "text": [
      "Primera línea\n",
      "Segunda línea\n",
      "Columna1\tColumna2\n",
      "Comillas simples: 'Hola'\n",
      "Comillas dobles: \"Mundo\"\n",
      "Ruta de archivo: C:\\nueva_carpeta\\archivo.txt\n",
      "Ruta cruda: C:\\nueva_carpeta\\archivo.txt\n",
      "Carácter Unicode: Ω\n"
     ]
    }
   ],
   "source": [
    "#caracteres especiales\n",
    "print(\"Primera línea\\nSegunda línea\")  # Salto de línea\n",
    "print(\"Columna1\\tColumna2\")  # Tabulación\n",
    "print(\"Comillas simples: \\'Hola\\'\")  # Comillas simples: 'Hola'\n",
    "print(\"Comillas dobles: \\\"Mundo\\\"\")  # Comillas dobles:\n",
    "print(\"Ruta de archivo: C:\\\\nueva_carpeta\\\\archivo.txt\")  # Ruta de archivo: C:\\nueva_carpeta\\archivo.txt\n",
    "print(r\"Ruta cruda: C:\\nueva_carpeta\\archivo.txt\")  # Ruta cruda: C:\\nueva_carpeta\\archivo.txt\n",
    "print(\"Carácter Unicode: \\u03A9\")  # Carácter Unicode: Ω\n"
   ]
  },
  {
   "cell_type": "code",
   "execution_count": 19,
   "id": "89a302ad",
   "metadata": {},
   "outputs": [
    {
     "name": "stdout",
     "output_type": "stream",
     "text": [
      "Hola, Daisy!\n",
      "tipo de dato: <class 'str'>\n"
     ]
    }
   ],
   "source": [
    "#input y output\n",
    "nombre = str(input(\"Ingrese su nombre: \"))\n",
    "print(f\"Hola, {nombre}!\")\n",
    "print(\"tipo de dato:\", type(nombre))"
   ]
  },
  {
   "cell_type": "code",
   "execution_count": null,
   "id": "02b9c8a7",
   "metadata": {},
   "outputs": [
    {
     "name": "stdout",
     "output_type": "stream",
     "text": [
      "[1, 2, 3, 4, 5]\n",
      "<class 'list'>\n",
      "[1, 2, 3, 4, 5, 6]\n",
      "[1, 2, 4, 5, 6]\n",
      "Elemento en indice 2: 4\n",
      "Sublista de indice 1 a 3: [2, 4, 5]\n",
      "Lista al reves: [6, 5, 4, 2, 1]\n"
     ]
    }
   ],
   "source": [
    "#listas\n",
    "mi_lista = [1, 2, 3, 4, 5]\n",
    "print(mi_lista)  # Salida: [1, 2, 3, 4, 5]\n",
    "print(type(mi_lista))  # Salida: <class 'list'>\n",
    "mi_lista.append(6)\n",
    "print(mi_lista)  # Salida: [1, 2, 3, 4, 5, 6]\n",
    "mi_lista.remove(3)\n",
    "print(mi_lista)  # Salida: [1, 2, 4, 5, 6]\n",
    "print(\"Elemento en indice 2:\", mi_lista[2])  # Salida: Element\n",
    "print(\"Sublista de indice 1 a 3:\", mi_lista[1:4])  # Salida: Sublista de indice 1 a 3: [2, 4, 5]\n",
    "print(\"Lista al reves:\", mi_lista[::-1])  # Salida: Lista al reves: [6, 5, 4, 2, 1]"
   ]
  }
 ],
 "metadata": {
  "kernelspec": {
   "display_name": "Python 3",
   "language": "python",
   "name": "python3"
  },
  "language_info": {
   "codemirror_mode": {
    "name": "ipython",
    "version": 3
   },
   "file_extension": ".py",
   "mimetype": "text/x-python",
   "name": "python",
   "nbconvert_exporter": "python",
   "pygments_lexer": "ipython3",
   "version": "3.12.7"
  }
 },
 "nbformat": 4,
 "nbformat_minor": 5
}
